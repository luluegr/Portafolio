# 📊 Regresión Logística  
## Introducción  

La regresión logística es un modelo estadístico utilizado para clasificar datos en dos o más categorías. A diferencia de la regresión lineal, que predice valores continuos, la regresión logística predice probabilidades y utiliza una función sigmoide para transformar los resultados en valores entre 0 y 1.  

Este modelo se aplica en diversos campos, como:  
✅ Diagnóstico médico (Ejemplo: ¿un paciente tiene una enfermedad o no?)  
✅ Finanzas (Ejemplo: ¿un cliente pagará su crédito o no?)  
✅ Marketing (Ejemplo: ¿un usuario hará clic en un anuncio?)  

En este notebook, exploraremos cómo implementar una **Regresión Logística en Python** usando **Scikit-Learn**, desde la carga de datos hasta la evaluación del modelo. 🚀  


