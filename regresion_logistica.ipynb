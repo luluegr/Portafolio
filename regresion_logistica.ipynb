# Importar librerías básicas para regresión logística
import pandas as pd
import numpy as np
import matplotlib.pyplot as plt
import seaborn as sns
from sklearn.model_selection import train_test_split
from sklearn.linear_model import LogisticRegression
from sklearn.metrics import accuracy_score, confusion_matrix, classification_report

# Mostrar mensaje de inicio
print("¡Archivo listo para trabajar con regresión logística!")

