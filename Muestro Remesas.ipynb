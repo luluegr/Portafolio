{
 "cells": [
  {
   "cell_type": "code",
   "execution_count": 1,
   "id": "ecac9442-d7a5-4166-b878-c8137c547aff",
   "metadata": {
    "tags": []
   },
   "outputs": [],
   "source": [
    "import pandas as pd\n",
    "from tqdm import tqdm ## barrra de progreso\n",
    "import datetime as dt ## cosas de fechas\n",
    "import numpy as np ## algebra lineal\n",
    "import os ### crear/borrar carpetas\n",
    "from datetime import timedelta ## cosas fechas, \n",
    "import warnings\n",
    "warnings.filterwarnings('ignore') \n",
    "\n",
    "pd.set_option('display.max.columns',150)\n",
    "pd.set_option('display.max.rows',150)\n",
    "\n",
    "from google.cloud import bigquery\n",
    "from google.oauth2 import service_account"
   ]
  },
  {
   "cell_type": "code",
   "execution_count": 2,
   "id": "e0c35ea9-8797-4095-8976-ef74df175d25",
   "metadata": {
    "tags": []
   },
   "outputs": [],
   "source": [
    "bq_client = bigquery.Client()"
   ]
  },
  {
   "cell_type": "markdown",
   "id": "47abea2a-7523-4512-8837-58e24744f332",
   "metadata": {},
   "source": [
    "## <font color = '#004D9E'> Segmentos en los que se particionan los Usuarios con LCA"
   ]
  },
  {
   "cell_type": "code",
   "execution_count": 4,
   "id": "2f7238c2-51ae-4989-ba9b-5808b87af5f4",
   "metadata": {
    "tags": []
   },
   "outputs": [
    {
     "name": "stdout",
     "output_type": "stream",
     "text": [
      "487002\n",
      "3.965196371078491, segs\n"
     ]
    },
    {
     "data": {
      "text/html": [
       "<div>\n",
       "<style scoped>\n",
       "    .dataframe tbody tr th:only-of-type {\n",
       "        vertical-align: middle;\n",
       "    }\n",
       "\n",
       "    .dataframe tbody tr th {\n",
       "        vertical-align: top;\n",
       "    }\n",
       "\n",
       "    .dataframe thead th {\n",
       "        text-align: right;\n",
       "    }\n",
       "</style>\n",
       "<table border=\"1\" class=\"dataframe\">\n",
       "  <thead>\n",
       "    <tr style=\"text-align: right;\">\n",
       "      <th></th>\n",
       "      <th>ICU</th>\n",
       "      <th>segmento</th>\n",
       "    </tr>\n",
       "  </thead>\n",
       "  <tbody>\n",
       "    <tr>\n",
       "      <th>0</th>\n",
       "      <td>a9578a9d616c4d64af3244fc95ae8d67</td>\n",
       "      <td>1</td>\n",
       "    </tr>\n",
       "    <tr>\n",
       "      <th>1</th>\n",
       "      <td>eb5a0de494bc4b0da3c1f2e61fc9fe9d</td>\n",
       "      <td>1</td>\n",
       "    </tr>\n",
       "  </tbody>\n",
       "</table>\n",
       "</div>"
      ],
      "text/plain": [
       "                                ICU  segmento\n",
       "0  a9578a9d616c4d64af3244fc95ae8d67         1\n",
       "1  eb5a0de494bc4b0da3c1f2e61fc9fe9d         1"
      ]
     },
     "execution_count": 4,
     "metadata": {},
     "output_type": "execute_result"
    }
   ],
   "source": [
    "import time\n",
    "a = time.time()\n",
    "\n",
    "query_job = bq_client.query(f\"\"\"\n",
    "SELECT icu As ICU, segmento\n",
    "FROM `gs-mx-sandboxconsumo-dev.DPBV_10048652.sh_remesas_segmentos`\n",
    "\"\"\")\n",
    "results = query_job.result() \n",
    "seg_rem = query_job.to_dataframe()\n",
    "\n",
    "b = time.time()\n",
    "\n",
    "print(seg_rem.shape[0])\n",
    "print(f\"{b-a}, segs\")\n",
    "seg_rem.head(2)"
   ]
  },
  {
   "cell_type": "code",
   "execution_count": null,
   "id": "61e2c02e-c7b2-4b99-98e5-ec79883b161a",
   "metadata": {},
   "outputs": [],
   "source": []
  },
  {
   "cell_type": "code",
   "execution_count": 18,
   "id": "cd09af31-c1eb-48b5-8b43-91f0802e54ef",
   "metadata": {
    "tags": []
   },
   "outputs": [
    {
     "data": {
      "text/plain": [
       "segmento\n",
       "5    200413\n",
       "3    102666\n",
       "4     74672\n",
       "2     67799\n",
       "1     36766\n",
       "Name: count, dtype: Int64"
      ]
     },
     "execution_count": 18,
     "metadata": {},
     "output_type": "execute_result"
    }
   ],
   "source": [
    "seg_rem.segmento.value_counts()"
   ]
  },
  {
   "cell_type": "markdown",
   "id": "edf708fc-f8fc-4522-aa2d-de563724ea01",
   "metadata": {},
   "source": [
    "## <font color = '#004D9E'> Puerta Trasera"
   ]
  },
  {
   "cell_type": "code",
   "execution_count": 10,
   "id": "ff233790-1a78-4d8c-a2a1-0e24194458d7",
   "metadata": {
    "tags": []
   },
   "outputs": [
    {
     "name": "stdout",
     "output_type": "stream",
     "text": [
      "10189875\n",
      "18.47 seg\n"
     ]
    }
   ],
   "source": [
    "import time\n",
    "a = time.time() # \n",
    "\n",
    "query = bq_client.query(f\"\"\"\n",
    "SELECT DISTINCT icu AS ICU , segmento_di\n",
    "FROM `bancadigital-539f1.Shopinbaz_Backdoor.final10k_2` A\n",
    "\"\"\")\n",
    "\n",
    "puerta = query.to_dataframe()\n",
    "print(puerta.shape[0])\n",
    "\n",
    "b = time.time()\n",
    "print(f\"{b-a:,.2f} seg\")"
   ]
  },
  {
   "cell_type": "markdown",
   "id": "acfecef6-7aa2-4bb3-af2e-c7c0fb752ac0",
   "metadata": {},
   "source": [
    "## <font color = '#004D9E'> Usuarios con Compras Previas."
   ]
  },
  {
   "cell_type": "code",
   "execution_count": 11,
   "id": "d9e01e93-14ae-46b1-911f-dabf97db83da",
   "metadata": {
    "tags": []
   },
   "outputs": [
    {
     "name": "stderr",
     "output_type": "stream",
     "text": [
      "Procesando lotes: 100%|██████████████████████████████████████████████████| 20/20 [03:18<00:00,  9.93\n"
     ]
    },
    {
     "data": {
      "text/html": [
       "<div>\n",
       "<style scoped>\n",
       "    .dataframe tbody tr th:only-of-type {\n",
       "        vertical-align: middle;\n",
       "    }\n",
       "\n",
       "    .dataframe tbody tr th {\n",
       "        vertical-align: top;\n",
       "    }\n",
       "\n",
       "    .dataframe thead th {\n",
       "        text-align: right;\n",
       "    }\n",
       "</style>\n",
       "<table border=\"1\" class=\"dataframe\">\n",
       "  <thead>\n",
       "    <tr style=\"text-align: right;\">\n",
       "      <th></th>\n",
       "      <th>ICU</th>\n",
       "      <th>monto</th>\n",
       "      <th>fecha</th>\n",
       "      <th>fecha_compra</th>\n",
       "    </tr>\n",
       "  </thead>\n",
       "  <tbody>\n",
       "    <tr>\n",
       "      <th>0</th>\n",
       "      <td>7cb2447722bf45f989e052a9324db38d</td>\n",
       "      <td>11999.0</td>\n",
       "      <td>2024-12-22 17:54:51.905</td>\n",
       "      <td>2024-12-22</td>\n",
       "    </tr>\n",
       "  </tbody>\n",
       "</table>\n",
       "</div>"
      ],
      "text/plain": [
       "                                ICU    monto                   fecha  \\\n",
       "0  7cb2447722bf45f989e052a9324db38d  11999.0 2024-12-22 17:54:51.905   \n",
       "\n",
       "  fecha_compra  \n",
       "0   2024-12-22  "
      ]
     },
     "execution_count": 11,
     "metadata": {},
     "output_type": "execute_result"
    }
   ],
   "source": [
    "from tqdm import tqdm\n",
    "import time\n",
    "\n",
    "icu_list = seg_rem[\"ICU\"].unique().tolist()\n",
    "batch_size = 25000\n",
    "\n",
    "icu_batches = [icu_list[i:i + batch_size] for i in range(0, len(icu_list), batch_size)]\n",
    "compras_final = pd.DataFrame()\n",
    "\n",
    "# Configuración de tqdm para una barra más limpia\n",
    "with tqdm(icu_batches, desc=\"Procesando lotes\", unit=\"lote\",ncols=100,bar_format=\"{l_bar}{bar:50}| {n_fmt}/{total_fmt} [{elapsed}<{remaining}, {rate_fmt}{postfix}]\") as pbar:\n",
    "    for batch in pbar:\n",
    "        start_time = time.time()\n",
    "        \n",
    "        icu_str = \",\".join([f\"'{icu}'\" for icu in batch])\n",
    "\n",
    "        query = f\"\"\"\n",
    "            SELECT DISTINCT icu as ICU, \n",
    "            monto_total_pedido AS monto, \n",
    "            fecha_generacion AS fecha\n",
    "            FROM `gs-mx-sandboxconsumo-dev.boletin_sbxgs_cleaned.crystal_compras_ecommerce`        \n",
    "            WHERE plataforma = \"BancaDigital\"\n",
    "            AND compra_exitosa = TRUE\n",
    "            AND forma_pago LIKE '%dito'\n",
    "            AND icu IN ({icu_str})\n",
    "        \"\"\"\n",
    "\n",
    "        query_job = bq_client.query(query)\n",
    "        compras_batch = query_job.result().to_dataframe()\n",
    "\n",
    "        compras_final = pd.concat([compras_final, compras_batch], ignore_index=True)\n",
    "        \n",
    "        end_time = time.time()\n",
    "        pbar.set_postfix_str(f\"Último lote: {len(batch)} ICU en {end_time - start_time:.2f}s\")\n",
    "\n",
    "compras_final = compras_final[~compras_final.monto.isnull()]\n",
    "compras_final['fecha_compra'] = compras_final.fecha.astype(str).str[:10]\n",
    "\n",
    "compras_final.head(1)"
   ]
  },
  {
   "cell_type": "markdown",
   "id": "ea6fb063-8cb6-4b50-af33-4b2b11459849",
   "metadata": {},
   "source": [
    "## <font color = '#004D9E'> Cálculo Tasas P y G Hist"
   ]
  },
  {
   "cell_type": "code",
   "execution_count": 12,
   "id": "c8402f78-4973-44f2-bfa0-1cfb6b2db710",
   "metadata": {
    "tags": []
   },
   "outputs": [],
   "source": [
    "# porcentaje de usuarios que ya habíam comprado\n",
    "### OJO: Puede que ya hayan quitado algunos antes de ingestar la tabla, por lo que\n",
    "### si es el caso aumentaría\n",
    "tasa_part = compras_final.ICU.nunique()/seg_rem.ICU.nunique()\n",
    "tasa_gan = compras_final[compras_final.monto >= 800].ICU.nunique()/seg_rem.ICU.nunique()"
   ]
  },
  {
   "cell_type": "code",
   "execution_count": 13,
   "id": "25ddd0aa-0e6e-4846-9a84-53695a863ed3",
   "metadata": {
    "tags": []
   },
   "outputs": [],
   "source": [
    "compras_final['fecha_compra'] = pd.to_datetime(compras_final['fecha_compra'])\n",
    "\n",
    "compras_final['año'] = compras_final['fecha_compra'].dt.isocalendar().year\n",
    "compras_final['semana'] = compras_final['fecha_compra'].dt.isocalendar().week\n",
    "\n",
    "total_icu_seg_rem = seg_rem.ICU.nunique()\n",
    "\n",
    "tasas_ganadores = (\n",
    "    compras_final[compras_final['monto'] >= 800]\n",
    "    .groupby(['año', 'semana'])\n",
    "    .agg({'ICU': 'nunique'})\n",
    "    .rename(columns={'ICU': 'icu_unicos'})\n",
    "    .reset_index()\n",
    ")\n",
    "\n",
    "tasas_ganadores['tasa_G'] = tasas_ganadores['icu_unicos'] / total_icu_seg_rem\n",
    "tasas_ganadores['Hubieran_Sido_Gan'] = tasas_ganadores['tasa_G'] *35000\n",
    "tasas_ganadores = tasas_ganadores[['año', 'semana',  'tasa_G', 'Hubieran_Sido_Gan']]\n",
    "\n",
    "tasas_ganadores = tasas_ganadores.sort_values(['año', 'semana'])"
   ]
  },
  {
   "cell_type": "code",
   "execution_count": 14,
   "id": "cba7c0b4-7505-40b3-b326-ad724aa7dcba",
   "metadata": {
    "tags": []
   },
   "outputs": [],
   "source": [
    "tasas_part = (\n",
    "    compras_final\n",
    "    .groupby(['año', 'semana'])\n",
    "    .agg({'ICU': 'nunique'})\n",
    "    .rename(columns={'ICU': 'icu_unicos'})\n",
    "    .reset_index()\n",
    ")\n",
    "\n",
    "tasas_part['tasa_P'] = tasas_part['icu_unicos'] / total_icu_seg_rem\n",
    "tasas_part['Hubieran_Sido_Part'] = tasas_part['tasa_P'] *34643\n",
    "tasas_part = tasas_part[['año', 'semana',  'tasa_P', 'Hubieran_Sido_Part']]\n",
    "\n",
    "tasas_part = tasas_part.sort_values(['año', 'semana'])"
   ]
  },
  {
   "cell_type": "code",
   "execution_count": 15,
   "id": "798cc61a-b102-4e63-a449-4a5b37c7a785",
   "metadata": {
    "tags": []
   },
   "outputs": [],
   "source": [
    "tasas_e = tasas_ganadores.merge(tasas_part, on=['año','semana'], how = 'left')"
   ]
  },
  {
   "cell_type": "code",
   "execution_count": 16,
   "id": "c4fb2cd6-fa58-4eeb-ac1e-99a66947703b",
   "metadata": {
    "tags": []
   },
   "outputs": [],
   "source": [
    "seg_rem = seg_rem[(~seg_rem.ICU.isin(compras_final.ICU)) & (seg_rem.ICU.isin(puerta.ICU))] "
   ]
  },
  {
   "cell_type": "code",
   "execution_count": 17,
   "id": "6b4fd457-dcb3-4f4a-a6bd-526752d20148",
   "metadata": {
    "tags": []
   },
   "outputs": [
    {
     "data": {
      "text/plain": [
       "Index(['ICU', 'segmento'], dtype='object')"
      ]
     },
     "execution_count": 17,
     "metadata": {},
     "output_type": "execute_result"
    }
   ],
   "source": [
    "seg_rem.columns"
   ]
  },
  {
   "cell_type": "markdown",
   "id": "fd82af69-b5cd-43c9-b2d5-72441fb7902f",
   "metadata": {},
   "source": [
    "## <font color = '#004D9E'> Muestreo y Bootstrap"
   ]
  },
  {
   "cell_type": "markdown",
   "id": "9b98f393-bc0c-4eaf-b12e-63dab19fdb64",
   "metadata": {},
   "source": [
    "**NOTA:**\n",
    "\n",
    "$$\n",
    "X_i^{k}\\sim Bernoulli(p) \\Rightarrow \\frac{1}{n} \\displaystyle{\\sum_{i=1}^{n}X_i} = \\hat{p} \\sim N\\left(p,\\displaystyle{\\sqrt{\\frac{p(1-p)}{n}}}\\right)\n",
    "$$\n",
    "\n",
    "Fórmula para intervalos de confianza de una proporción\n",
    "\n",
    "$$\n",
    "IC \\approx \\hat{p} \\,\\pm z_{\\alpha/2} \\displaystyle{\\sqrt{\\frac{\\hat{p}(1-\\hat{p})}{n}}}\n",
    "$$\n",
    "\n",
    "Amplitud del IC *(que tando se \"abre\")* \n",
    "\n",
    "$$\n",
    "E = z_{\\alpha/2} \\displaystyle{\\sqrt{\\frac{\\hat{p}(1-\\hat{p})}{n}}}\n",
    "$$\n",
    "\n",
    "Despejando $n$\n",
    "\n",
    "$$\n",
    "n = \\displaystyle{\\frac{z_{\\alpha/2}^2 \\cdot \\hat{p}(1-\\hat{p})}{E^2}}\n",
    "$$"
   ]
  },
  {
   "cell_type": "code",
   "execution_count": 19,
   "id": "78533f7a-5c23-4ce2-a24a-3a4da0f7fb22",
   "metadata": {
    "tags": []
   },
   "outputs": [],
   "source": [
    "from scipy.stats import norm\n",
    "\n",
    "def calcular_tamaño_muestra(poblacion_total, p_k, margen_error=0.05, confianza=0.95):\n",
    "    \"\"\"Calcula el tamaño de muestra para un segmento con proporción p_k.\"\"\"\n",
    "    z = norm.ppf(1 - (1 - confianza) / 2)  # Valor Z\n",
    "    n = (z**2 * p_k * (1 - p_k)) / (margen_error**2)\n",
    "    \n",
    "    # Ajuste para población finita\n",
    "    n_ajustado = n / (1 + (n - 1) / poblacion_total)\n",
    "    return int(np.ceil(n_ajustado))\n",
    "\n"
   ]
  },
  {
   "cell_type": "code",
   "execution_count": 20,
   "id": "357353b7-2e70-4a1d-99f6-d16dab5f2944",
   "metadata": {
    "tags": []
   },
   "outputs": [],
   "source": [
    "proporciones = seg_rem['segmento'].value_counts(normalize=True)\n",
    "margen_error = 0.005  #  amplitud del intervalo de confianza\n",
    "confianza = 0.95      # 95% de confianza\n",
    "poblacion_total = len(seg_rem)\n",
    "resultados = []\n",
    "\n",
    "for segmento, p_k in proporciones.items():\n",
    "    n_k = calcular_tamaño_muestra(poblacion_total, p_k, margen_error, confianza)\n",
    "    resultados.append({\n",
    "        'segmento': segmento,\n",
    "        'proporcion': p_k,\n",
    "        'tamaño_muestra': n_k\n",
    "    })"
   ]
  },
  {
   "cell_type": "code",
   "execution_count": 21,
   "id": "7d185ceb-b787-4f0e-8342-ef7674de8a0b",
   "metadata": {
    "tags": []
   },
   "outputs": [
    {
     "data": {
      "text/html": [
       "<div>\n",
       "<style scoped>\n",
       "    .dataframe tbody tr th:only-of-type {\n",
       "        vertical-align: middle;\n",
       "    }\n",
       "\n",
       "    .dataframe tbody tr th {\n",
       "        vertical-align: top;\n",
       "    }\n",
       "\n",
       "    .dataframe thead th {\n",
       "        text-align: right;\n",
       "    }\n",
       "</style>\n",
       "<table border=\"1\" class=\"dataframe\">\n",
       "  <thead>\n",
       "    <tr style=\"text-align: right;\">\n",
       "      <th></th>\n",
       "      <th>segmento</th>\n",
       "      <th>proporcion</th>\n",
       "      <th>tamaño_muestra</th>\n",
       "    </tr>\n",
       "  </thead>\n",
       "  <tbody>\n",
       "    <tr>\n",
       "      <th>0</th>\n",
       "      <td>5</td>\n",
       "      <td>0.415522</td>\n",
       "      <td>34639</td>\n",
       "    </tr>\n",
       "    <tr>\n",
       "      <th>1</th>\n",
       "      <td>3</td>\n",
       "      <td>0.212860</td>\n",
       "      <td>24442</td>\n",
       "    </tr>\n",
       "    <tr>\n",
       "      <th>2</th>\n",
       "      <td>4</td>\n",
       "      <td>0.154820</td>\n",
       "      <td>19302</td>\n",
       "    </tr>\n",
       "    <tr>\n",
       "      <th>3</th>\n",
       "      <td>2</td>\n",
       "      <td>0.140570</td>\n",
       "      <td>17876</td>\n",
       "    </tr>\n",
       "    <tr>\n",
       "      <th>4</th>\n",
       "      <td>1</td>\n",
       "      <td>0.076228</td>\n",
       "      <td>10583</td>\n",
       "    </tr>\n",
       "  </tbody>\n",
       "</table>\n",
       "</div>"
      ],
      "text/plain": [
       "   segmento  proporcion  tamaño_muestra\n",
       "0         5    0.415522           34639\n",
       "1         3    0.212860           24442\n",
       "2         4    0.154820           19302\n",
       "3         2    0.140570           17876\n",
       "4         1    0.076228           10583"
      ]
     },
     "execution_count": 21,
     "metadata": {},
     "output_type": "execute_result"
    }
   ],
   "source": [
    "tm = pd.DataFrame(resultados)\n",
    "tm"
   ]
  },
  {
   "cell_type": "code",
   "execution_count": 22,
   "id": "d7462924-3cba-49b7-99cf-661f12b21ad1",
   "metadata": {
    "tags": []
   },
   "outputs": [
    {
     "data": {
      "text/plain": [
       "34639"
      ]
     },
     "execution_count": 22,
     "metadata": {},
     "output_type": "execute_result"
    }
   ],
   "source": [
    "tm.tamaño_muestra.max()"
   ]
  },
  {
   "cell_type": "code",
   "execution_count": 23,
   "id": "e3c56015-48d5-46fe-9e74-825bd9f56faa",
   "metadata": {
    "tags": []
   },
   "outputs": [
    {
     "data": {
      "text/plain": [
       "106842"
      ]
     },
     "execution_count": 23,
     "metadata": {},
     "output_type": "execute_result"
    }
   ],
   "source": [
    "tm.tamaño_muestra.sum()"
   ]
  },
  {
   "cell_type": "code",
   "execution_count": 24,
   "id": "ddbe89b3-bfc8-46c3-98e6-744056313ec6",
   "metadata": {},
   "outputs": [],
   "source": [
    "proporciones_reales = seg_rem['segmento'].value_counts(normalize=True).sort_index()\n",
    "\n",
    "def Bootstrap(df, columna_segmento, n_muestra, n_simulaciones=1000, guardar_como=None, calcular_intervalos=False):\n",
    "    \"\"\"\n",
    "    Simula múltiples muestras y compara proporciones con las reales.\n",
    "    \n",
    "    Args:\n",
    "        df (pd.DataFrame): DataFrame con los datos originales\n",
    "        columna_segmento (str): Nombre de la columna con los segmentos\n",
    "        n_muestra (int): Tamaño de cada muestra\n",
    "        n_simulaciones (int): Número de muestras a simular (default=1000)\n",
    "        guardar_como (str): Nombre para guardar el resultado en el kernel (opcional)\n",
    "        calcular_intervalos (bool): Genera los intervalos Interpercentilicos (opcional)\n",
    "    \n",
    "    Returns:\n",
    "        pd.DataFrame: DataFrame comparativo con proporciones reales vs muestrales\n",
    "    \"\"\"\n",
    "    proporciones_reales = df[columna_segmento].value_counts(normalize=True).sort_index()\n",
    "    \n",
    "    resultados = []\n",
    "    \n",
    "    for _ in tqdm(range(n_simulaciones), desc=\"Simulando muestras\", unit=\"muestra\"):\n",
    "        \n",
    "        muestra = df.sample(n_muestra, replace=False, random_state=np.random.RandomState())\n",
    "        \n",
    "        prop_muestra = muestra[columna_segmento].value_counts(normalize=True).sort_index()\n",
    "        resultados.append(prop_muestra)\n",
    "    \n",
    "    df_simulaciones = pd.DataFrame(resultados)\n",
    "    proporciones_promedio = df_simulaciones.mean()\n",
    "    \n",
    "    df_comparativo = pd.DataFrame({\n",
    "        'Proporción_Real': proporciones_reales,\n",
    "        'Proporción_Muestral_Promedio': proporciones_promedio,\n",
    "        'Diferencia_Absoluta': np.abs(proporciones_reales - proporciones_promedio)\n",
    "    })\n",
    "    \n",
    "    if calcular_intervalos:\n",
    "        df_comparativo['IC_95_inferior'] = df_simulaciones.quantile(0.025)\n",
    "        df_comparativo['IC_95_superior'] = df_simulaciones.quantile(0.975)\n",
    "    \n",
    "    if guardar_como:\n",
    "        globals()[guardar_como] = df_comparativo\n",
    "    \n",
    "    return print(\"\\n\\tListo!!\\n\")"
   ]
  },
  {
   "cell_type": "code",
   "execution_count": 40,
   "id": "52cd8c2e-b9cb-4596-bc46-36fa100b9039",
   "metadata": {
    "tags": []
   },
   "outputs": [
    {
     "name": "stderr",
     "output_type": "stream",
     "text": [
      "Simulando muestras: 100%|██████████| 1000/1000 [00:15<00:00, 63.57muestra/s]\n"
     ]
    },
    {
     "name": "stdout",
     "output_type": "stream",
     "text": [
      "\n",
      "\tListo!!\n",
      "\n"
     ]
    },
    {
     "data": {
      "text/html": [
       "<div>\n",
       "<style scoped>\n",
       "    .dataframe tbody tr th:only-of-type {\n",
       "        vertical-align: middle;\n",
       "    }\n",
       "\n",
       "    .dataframe tbody tr th {\n",
       "        vertical-align: top;\n",
       "    }\n",
       "\n",
       "    .dataframe thead th {\n",
       "        text-align: right;\n",
       "    }\n",
       "</style>\n",
       "<table border=\"1\" class=\"dataframe\">\n",
       "  <thead>\n",
       "    <tr style=\"text-align: right;\">\n",
       "      <th></th>\n",
       "      <th>Proporción_Real</th>\n",
       "      <th>Proporción_Muestral_Promedio</th>\n",
       "      <th>Diferencia_Absoluta</th>\n",
       "      <th>IC_95_inferior</th>\n",
       "      <th>IC_95_superior</th>\n",
       "    </tr>\n",
       "    <tr>\n",
       "      <th>segmento</th>\n",
       "      <th></th>\n",
       "      <th></th>\n",
       "      <th></th>\n",
       "      <th></th>\n",
       "      <th></th>\n",
       "    </tr>\n",
       "  </thead>\n",
       "  <tbody>\n",
       "    <tr>\n",
       "      <th>1</th>\n",
       "      <td>0.076228</td>\n",
       "      <td>0.076206</td>\n",
       "      <td>0.000022</td>\n",
       "      <td>0.073571</td>\n",
       "      <td>0.078800</td>\n",
       "    </tr>\n",
       "    <tr>\n",
       "      <th>2</th>\n",
       "      <td>0.14057</td>\n",
       "      <td>0.140491</td>\n",
       "      <td>0.000079</td>\n",
       "      <td>0.137114</td>\n",
       "      <td>0.143887</td>\n",
       "    </tr>\n",
       "    <tr>\n",
       "      <th>3</th>\n",
       "      <td>0.21286</td>\n",
       "      <td>0.212965</td>\n",
       "      <td>0.000104</td>\n",
       "      <td>0.208829</td>\n",
       "      <td>0.217058</td>\n",
       "    </tr>\n",
       "    <tr>\n",
       "      <th>4</th>\n",
       "      <td>0.15482</td>\n",
       "      <td>0.154744</td>\n",
       "      <td>0.000076</td>\n",
       "      <td>0.150914</td>\n",
       "      <td>0.158401</td>\n",
       "    </tr>\n",
       "    <tr>\n",
       "      <th>5</th>\n",
       "      <td>0.415522</td>\n",
       "      <td>0.415594</td>\n",
       "      <td>0.000072</td>\n",
       "      <td>0.410599</td>\n",
       "      <td>0.420401</td>\n",
       "    </tr>\n",
       "  </tbody>\n",
       "</table>\n",
       "</div>"
      ],
      "text/plain": [
       "          Proporción_Real  Proporción_Muestral_Promedio  Diferencia_Absoluta  \\\n",
       "segmento                                                                       \n",
       "1                0.076228                      0.076206             0.000022   \n",
       "2                 0.14057                      0.140491             0.000079   \n",
       "3                 0.21286                      0.212965             0.000104   \n",
       "4                 0.15482                      0.154744             0.000076   \n",
       "5                0.415522                      0.415594             0.000072   \n",
       "\n",
       "          IC_95_inferior  IC_95_superior  \n",
       "segmento                                  \n",
       "1               0.073571        0.078800  \n",
       "2               0.137114        0.143887  \n",
       "3               0.208829        0.217058  \n",
       "4               0.150914        0.158401  \n",
       "5               0.410599        0.420401  "
      ]
     },
     "execution_count": 40,
     "metadata": {},
     "output_type": "execute_result"
    }
   ],
   "source": [
    "Bootstrap(\n",
    "    seg_rem, \n",
    "    'segmento', \n",
    "    35000,      # Tamaño de muestra \n",
    "    1000,       # número de muestras\n",
    "    'propor_final',  ## nombre que tendría el dataframe\n",
    "    True)\n",
    "propor_final"
   ]
  },
  {
   "cell_type": "code",
   "execution_count": 41,
   "id": "048246e6-769c-4a5a-8f6e-3b3a7f1763f5",
   "metadata": {
    "tags": []
   },
   "outputs": [
    {
     "data": {
      "image/png": "[encoded data removed]",
      "text/plain": [
       "<Figure size 1200x700 with 1 Axes>"
      ]
     },
     "metadata": {},
     "output_type": "display_data"
    }
   ],
   "source": [
    "import matplotlib.pyplot as plt\n",
    "\n",
    "propor_final.reset_index(inplace=True)\n",
    "\n",
    "propor_final = propor_final.sort_values('segmento')\n",
    "\n",
    "plt.figure(figsize=(12, 7))\n",
    "\n",
    "plt.errorbar(\n",
    "    x=propor_final['segmento'],\n",
    "    y=propor_final['Proporción_Muestral_Promedio'],\n",
    "    yerr=[\n",
    "        propor_final['Proporción_Muestral_Promedio'] - propor_final['IC_95_inferior'],\n",
    "        propor_final['IC_95_superior'] - propor_final['Proporción_Muestral_Promedio']\n",
    "    ],\n",
    "    fmt='o',\n",
    "    capsize=7,\n",
    "    color='blue',\n",
    "    label='Estimación Bootstrap ± IC 95%'\n",
    ")\n",
    "\n",
    "for _, row in propor_final.iterrows():\n",
    "    plt.axhline(y=row['Proporción_Real'], \n",
    "                color='red', \n",
    "                linestyle='--', \n",
    "                alpha=0.5,\n",
    "                label=f'Real Seg. {row[\"segmento\"]}' if _ == 0 else \"\")\n",
    "\n",
    "plt.title('Comparación de Proporciones por Segmento\\nEstimación vs Valores Reales', pad=20)\n",
    "plt.xlabel('Segmento')\n",
    "plt.ylabel('Proporción')\n",
    "plt.xticks(propor_final['segmento']) \n",
    "plt.grid(axis='y', linestyle='--', alpha=0.7)\n",
    "\n",
    "handles, labels = plt.gca().get_legend_handles_labels()\n",
    "by_label = dict(zip(labels, handles))\n",
    "plt.legend(by_label.values(), by_label.keys(), loc='upper right')\n",
    "\n",
    "plt.tight_layout()\n",
    "plt.show()"
   ]
  },
  {
   "cell_type": "code",
   "execution_count": null,
   "id": "fb5fee87-84e9-4a0a-9734-5bf4d696151f",
   "metadata": {
    "tags": []
   },
   "outputs": [],
   "source": [
    "tasas_e[tasas_e.año == 2025][['año', 'semana', 'tasa_G','tasa_P','Hubieran_Sido_Gan','Hubieran_Sido_Part']]"
   ]
  },
  {
   "cell_type": "code",
   "execution_count": null,
   "id": "f73d0d04-0d00-4488-9a5d-7359e227f484",
   "metadata": {
    "tags": []
   },
   "outputs": [],
   "source": [
    "0.000018 * 10000"
   ]
  },
  {
   "cell_type": "markdown",
   "id": "95f73943-7db0-4f0b-840d-bef9edeec7b1",
   "metadata": {},
   "source": [
    "### Proporicones Entradas"
   ]
  },
  {
   "cell_type": "code",
   "execution_count": 29,
   "id": "9c277e89-c627-4a64-b3b7-ff81fd8b3a44",
   "metadata": {
    "tags": []
   },
   "outputs": [
    {
     "name": "stdout",
     "output_type": "stream",
     "text": [
      "5780618\n",
      "11.88 seg\n"
     ]
    }
   ],
   "source": [
    "import time\n",
    "a = time.time() # \n",
    "\n",
    "query = bq_client.query(f\"\"\"\n",
    "SELECT DISTINCT(icu)\n",
    "FROM `superapp-baz-prod.Shopinbaz_BD_curadas.Shopinbaz_ecommerce_master_events_universo`\n",
    "\"\"\")\n",
    "\n",
    "entradas = query.to_dataframe()\n",
    "print(entradas.shape[0])\n",
    "\n",
    "b = time.time()\n",
    "print(f\"{b-a:,.2f} seg\")\n",
    "\n"
   ]
  },
  {
   "cell_type": "code",
   "execution_count": 30,
   "id": "4174e96e-7ba4-459f-a43f-e8b10905f39d",
   "metadata": {
    "tags": []
   },
   "outputs": [],
   "source": [
    "seg_rem['entrada'] = seg_rem.ICU.isin(entradas.icu).astype(int)"
   ]
  },
  {
   "cell_type": "code",
   "execution_count": 31,
   "id": "21b11ef7-25f4-402a-b0b5-84f95667f4b4",
   "metadata": {
    "tags": []
   },
   "outputs": [
    {
     "name": "stderr",
     "output_type": "stream",
     "text": [
      "Simulando muestras: 100%|██████████| 1000/1000 [00:16<00:00, 61.12muestra/s]"
     ]
    },
    {
     "name": "stdout",
     "output_type": "stream",
     "text": [
      "\n",
      "\tListo!!\n",
      "\n"
     ]
    },
    {
     "name": "stderr",
     "output_type": "stream",
     "text": [
      "\n"
     ]
    },
    {
     "data": {
      "text/html": [
       "<div>\n",
       "<style scoped>\n",
       "    .dataframe tbody tr th:only-of-type {\n",
       "        vertical-align: middle;\n",
       "    }\n",
       "\n",
       "    .dataframe tbody tr th {\n",
       "        vertical-align: top;\n",
       "    }\n",
       "\n",
       "    .dataframe thead th {\n",
       "        text-align: right;\n",
       "    }\n",
       "</style>\n",
       "<table border=\"1\" class=\"dataframe\">\n",
       "  <thead>\n",
       "    <tr style=\"text-align: right;\">\n",
       "      <th></th>\n",
       "      <th>Proporción_Real</th>\n",
       "      <th>Proporción_Muestral_Promedio</th>\n",
       "      <th>Diferencia_Absoluta</th>\n",
       "      <th>IC_95_inferior</th>\n",
       "      <th>IC_95_superior</th>\n",
       "    </tr>\n",
       "    <tr>\n",
       "      <th>entrada</th>\n",
       "      <th></th>\n",
       "      <th></th>\n",
       "      <th></th>\n",
       "      <th></th>\n",
       "      <th></th>\n",
       "    </tr>\n",
       "  </thead>\n",
       "  <tbody>\n",
       "    <tr>\n",
       "      <th>0</th>\n",
       "      <td>0.347293</td>\n",
       "      <td>0.347174</td>\n",
       "      <td>0.000119</td>\n",
       "      <td>0.342571</td>\n",
       "      <td>0.351830</td>\n",
       "    </tr>\n",
       "    <tr>\n",
       "      <th>1</th>\n",
       "      <td>0.652707</td>\n",
       "      <td>0.652826</td>\n",
       "      <td>0.000119</td>\n",
       "      <td>0.648170</td>\n",
       "      <td>0.657429</td>\n",
       "    </tr>\n",
       "  </tbody>\n",
       "</table>\n",
       "</div>"
      ],
      "text/plain": [
       "         Proporción_Real  Proporción_Muestral_Promedio  Diferencia_Absoluta  \\\n",
       "entrada                                                                       \n",
       "0               0.347293                      0.347174             0.000119   \n",
       "1               0.652707                      0.652826             0.000119   \n",
       "\n",
       "         IC_95_inferior  IC_95_superior  \n",
       "entrada                                  \n",
       "0              0.342571        0.351830  \n",
       "1              0.648170        0.657429  "
      ]
     },
     "execution_count": 31,
     "metadata": {},
     "output_type": "execute_result"
    }
   ],
   "source": [
    "Bootstrap(\n",
    "    seg_rem, \n",
    "    'entrada', \n",
    "    35000,      # Tamaño de muestra \n",
    "    1000,       # número de muestras\n",
    "    'propor_final_entradas',\n",
    "    True)\n",
    "propor_final_entradas"
   ]
  },
  {
   "cell_type": "markdown",
   "id": "a6613d70-7ab0-41c7-94c7-a17fb3405c93",
   "metadata": {},
   "source": [
    "### Se retiran audiencias de Clic, Categorias y Exp de la Puerta"
   ]
  },
  {
   "cell_type": "code",
   "execution_count": 32,
   "id": "cfe529a3-27f2-45ea-a232-0a637ab144dc",
   "metadata": {
    "tags": []
   },
   "outputs": [],
   "source": [
    "## Excluir audiencias que genera Sonia (categoria, experimento)\n",
    "categoria_1 = pd.read_csv(\"/home/jupyter/01.MONETIZACION/29. Campañas Categorías/Bases Perfumes-S16/Perfumes_concat.csv\")\n",
    "categoria_2 = pd.read_csv(\"/home/jupyter/01.MONETIZACION/29. Campañas Categorías/Bases Zapatos-S16/Zapatos_concat.csv\")\n",
    "door = pd.read_csv(\"/home/jupyter/01.MONETIZACION/25. Puerta/Bases-semana-S15/Concatenados-S15.csv\")\n",
    "clic = pd.read_csv('/home/jupyter/01.MONETIZACION/30. Intención de Compra/Audiencias/Intención_Compra_S16.csv')"
   ]
  },
  {
   "cell_type": "code",
   "execution_count": 33,
   "id": "a4ea1af2-1b2b-4058-b0cf-92f0436e9b3a",
   "metadata": {
    "tags": []
   },
   "outputs": [],
   "source": [
    "categoria_1['camp'] = 'perfumes'\n",
    "categoria_2['camp'] = 'zapatos'\n",
    "door['camp'] = 'exp_puert'\n",
    "clic['camp'] = 'Clic'"
   ]
  },
  {
   "cell_type": "code",
   "execution_count": 34,
   "id": "074e8355-57dd-496a-9356-12abf4ff2bab",
   "metadata": {
    "tags": []
   },
   "outputs": [],
   "source": [
    "todo = pd.concat([categoria_1,categoria_2,door,clic])[['ICU','camp']]"
   ]
  },
  {
   "cell_type": "code",
   "execution_count": 35,
   "id": "4f995954-8dfc-447e-a6c6-69b8ef7be435",
   "metadata": {
    "tags": []
   },
   "outputs": [
    {
     "data": {
      "text/plain": [
       "camp\n",
       "zapatos      33758\n",
       "exp_puert    33419\n",
       "perfumes     27969\n",
       "Clic         25042\n",
       "Name: count, dtype: int64"
      ]
     },
     "execution_count": 35,
     "metadata": {},
     "output_type": "execute_result"
    }
   ],
   "source": [
    "todo[todo.ICU.isin(seg_rem.ICU)].camp.astype(str).value_counts()"
   ]
  },
  {
   "cell_type": "code",
   "execution_count": 36,
   "id": "b74b46a6-ac1c-4e08-bedb-8bd75d83a283",
   "metadata": {
    "tags": []
   },
   "outputs": [
    {
     "data": {
      "text/plain": [
       "120188"
      ]
     },
     "execution_count": 36,
     "metadata": {},
     "output_type": "execute_result"
    }
   ],
   "source": [
    "todo[todo.ICU.isin(seg_rem.ICU)].ICU.nunique()"
   ]
  },
  {
   "cell_type": "code",
   "execution_count": 37,
   "id": "f7fff913-6346-483a-9dab-20ad9f055634",
   "metadata": {},
   "outputs": [],
   "source": [
    "aud = seg_rem[~seg_rem.ICU.isin(todo.ICU)]"
   ]
  },
  {
   "cell_type": "markdown",
   "id": "023c87b4-4708-48d7-9e08-14f04c767eb5",
   "metadata": {},
   "source": [
    "## <font color = '#004D9E'> Generación de *.csv's*"
   ]
  },
  {
   "cell_type": "code",
   "execution_count": 38,
   "id": "8b1494bf-b6b7-43de-bd8a-25ef33497be2",
   "metadata": {
    "tags": []
   },
   "outputs": [
    {
     "name": "stdout",
     "output_type": "stream",
     "text": [
      "362,128\n"
     ]
    }
   ],
   "source": [
    "print(f\"{len(aud):,.0f}\")"
   ]
  },
  {
   "cell_type": "code",
   "execution_count": 39,
   "id": "f6d3a360-1e9f-4a3f-b369-e338fefe4a7c",
   "metadata": {
    "tags": []
   },
   "outputs": [
    {
     "ename": "ValueError",
     "evalue": "No correr lo que sigue del codigo porque genera csv's",
     "output_type": "error",
     "traceback": [
      "\u001b[0;31m---------------------------------------------------------------------------\u001b[0m",
      "\u001b[0;31mValueError\u001b[0m                                Traceback (most recent call last)",
      "Cell \u001b[0;32mIn[39], line 1\u001b[0m\n\u001b[0;32m----> 1\u001b[0m \u001b[38;5;28;01mraise\u001b[39;00m \u001b[38;5;167;01mValueError\u001b[39;00m(\u001b[38;5;124m\"\u001b[39m\u001b[38;5;124mNo correr lo que sigue del codigo porque genera csv\u001b[39m\u001b[38;5;124m'\u001b[39m\u001b[38;5;124ms\u001b[39m\u001b[38;5;124m\"\u001b[39m)\n",
      "\u001b[0;31mValueError\u001b[0m: No correr lo que sigue del codigo porque genera csv's"
     ]
    }
   ],
   "source": [
    "raise ValueError(\"No correr lo que sigue del codigo porque genera csv's\")"
   ]
  },
  {
   "cell_type": "code",
   "execution_count": null,
   "id": "9b87055d-d2e2-4a47-bdf7-6960fd30fdb0",
   "metadata": {
    "tags": []
   },
   "outputs": [],
   "source": [
    "N = len(aud)\n",
    "aud['Grupo'] = np.random.choice(np.repeat(['no_contar', 'comms', 'control','g1'], (N-120000,40000,40000,40000)), N, replace=False)"
   ]
  },
  {
   "cell_type": "code",
   "execution_count": null,
   "id": "e3d6d2d6-e66f-42d8-86e5-f767e627c554",
   "metadata": {
    "tags": []
   },
   "outputs": [],
   "source": [
    "if aud.ICU.nunique() == aud.shape[0]:\n",
    "    \n",
    "    print(\"No se traslapan las audiencias\")\n",
    "    \n",
    "else:\n",
    "    raise ValueError(\"Se traslapan, R E V I S A R \")"
   ]
  },
  {
   "cell_type": "code",
   "execution_count": null,
   "id": "2abad922-713a-49e9-b64a-e4c1886c1417",
   "metadata": {
    "tags": []
   },
   "outputs": [],
   "source": [
    "# Si se desea sembrar gente descomentar esta celda:\n",
    "\n",
    "semb = {'ICU': ['d83bccb1c6064aee91878571f7387d5c', '36d9299e93a444a2beb686936958a50a',\n",
    "                 '20ceb89835de4ea7883d265cd2b02c86', '7b3745da272d4636bde4c4e7e322c87e'],\n",
    "         'Grupo': ['g1', 'g1', 'g1', 'g1']}\n",
    "sembrados = pd.DataFrame(semb)"
   ]
  },
  {
   "cell_type": "code",
   "execution_count": null,
   "id": "2a558c08-1ed5-48ae-9596-6d2441136e9c",
   "metadata": {
    "tags": []
   },
   "outputs": [],
   "source": [
    "base  = pd.concat([aud[~aud.ICU.isin(sembrados.ICU)][['ICU','Grupo']],sembrados])"
   ]
  },
  {
   "cell_type": "code",
   "execution_count": null,
   "id": "082df087-f69f-4ef0-adbe-c13aebe17293",
   "metadata": {
    "tags": []
   },
   "outputs": [],
   "source": [
    "# base =  aud[['ICU','Grupo']]\n",
    "base.shape[0], base.ICU.nunique()"
   ]
  },
  {
   "cell_type": "code",
   "execution_count": null,
   "id": "96e4c8d4-7578-425b-b008-573ce24f095d",
   "metadata": {
    "tags": []
   },
   "outputs": [],
   "source": [
    "pwd"
   ]
  },
  {
   "cell_type": "code",
   "execution_count": null,
   "id": "7fd0b880-4ed5-44ff-a8f3-83feebf19d6d",
   "metadata": {
    "tags": []
   },
   "outputs": [],
   "source": [
    "base.to_csv(f'./Aud_Concat_S16(remesas).csv',index=False)"
   ]
  },
  {
   "cell_type": "code",
   "execution_count": null,
   "id": "34398973-a228-475b-8b26-87e1d3802ec8",
   "metadata": {
    "tags": []
   },
   "outputs": [],
   "source": [
    "base.Grupo.value_counts()"
   ]
  },
  {
   "cell_type": "code",
   "execution_count": null,
   "id": "33df3d80-d667-4d58-bdb1-db161b8001f4",
   "metadata": {},
   "outputs": [],
   "source": [
    "def process_and_save(df, name):\n",
    "\n",
    "    # Agregar columna \"type\" y renombrar \"ICU\" como \"identity\"\n",
    "    df_modificado = df[['ICU']]  # Crear una copia para no afectar el dataframe original\n",
    "    df_modificado['type'] = 'i'  \n",
    "    df_modificado = df_modificado.rename(columns={'ICU': 'identity'})\n",
    " \n",
    "    # Reordenar las columnas para que \"type\" sea la primera columna\n",
    "    df_modificado = df_modificado[['type', 'identity']]\n",
    "    # Guardar el dataframe modificado\n",
    "    #df_modificado.to_csv(f'./SHO-HIB-1RA-S9-{name}.csv', index=False)\n",
    "    df_modificado.to_csv(f'./SHO-REMESAS-1RA-S17-{name}.csv',index=False)\n",
    "    \"\"\n",
    "\n",
    "# Aplicar la función a los tres dataframes\n",
    "process_and_save(base[base.Grupo == 'g1'], 'TRATADO')\n",
    "process_and_save(base[base.Grupo == 'control'], 'CONTROL')\n",
    "process_and_save(base[base.Grupo == 'comms'], 'COMMS')"
   ]
  },
  {
   "cell_type": "code",
   "execution_count": null,
   "id": "ac3c003a-dfc4-440a-9683-4407e67288e6",
   "metadata": {},
   "outputs": [],
   "source": [
    "'/home/jupyter/01.MONETIZACION/33. Muestreo Remesas/SHO-REMESAS-1RA-S17-CONTROL.csv'"
   ]
  },
  {
   "cell_type": "code",
   "execution_count": null,
   "id": "dd39d15f-6162-44c2-b173-7551eb4f519d",
   "metadata": {},
   "outputs": [],
   "source": []
  },
  {
   "cell_type": "code",
   "execution_count": null,
   "id": "2c193cca-8fd5-42e8-9a71-b06ca69fe300",
   "metadata": {},
   "outputs": [],
   "source": [
    "pwd"
   ]
  },
  {
   "cell_type": "code",
   "execution_count": null,
   "id": "8670a852-156e-469d-970a-3a7373a5a6c9",
   "metadata": {},
   "outputs": [],
   "source": []
  },
  {
   "cell_type": "code",
   "execution_count": null,
   "id": "784ae86a-77c0-4a56-b11e-1db5134bc428",
   "metadata": {},
   "outputs": [],
   "source": []
  },
  {
   "cell_type": "code",
   "execution_count": null,
   "id": "8361cef1-9299-494f-ad7e-89c9b4a67b05",
   "metadata": {},
   "outputs": [],
   "source": []
  },
  {
   "cell_type": "code",
   "execution_count": null,
   "id": "f1809061-570e-46b6-81e4-15764cf76c4c",
   "metadata": {},
   "outputs": [],
   "source": []
  },
  {
   "cell_type": "code",
   "execution_count": null,
   "id": "065df8cb-edde-44ff-a702-2f60fbe50460",
   "metadata": {
    "tags": []
   },
   "outputs": [],
   "source": [
    "import pandas as pd\n",
    "rem = pd.read_csv(\"./Aud_Concat_S16(remesas).csv\")"
   ]
  },
  {
   "cell_type": "code",
   "execution_count": null,
   "id": "4323ac2f-067a-4156-a7a8-acf9909627d5",
   "metadata": {
    "tags": []
   },
   "outputs": [],
   "source": [
    "rem.Grupo.value_counts()"
   ]
  },
  {
   "cell_type": "code",
   "execution_count": null,
   "id": "4d1eeeea-2866-453d-b2d8-5f09e8d6c24a",
   "metadata": {
    "tags": []
   },
   "outputs": [],
   "source": [
    "rem[rem.Grupo != 'no_contar'].Grupo.value_counts()"
   ]
  },
  {
   "cell_type": "code",
   "execution_count": null,
   "id": "ac2cc191-2ee8-461b-8267-cb8eb1edeef3",
   "metadata": {},
   "outputs": [],
   "source": []
  },
  {
   "cell_type": "code",
   "execution_count": null,
   "id": "04b093e8-a8cb-4744-9e8a-84ea4dabcd76",
   "metadata": {},
   "outputs": [],
   "source": []
  }
 ],
 "metadata": {
  "environment": {
   "kernel": "conda-base-py",
   "name": "workbench-notebooks.m128",
   "type": "gcloud",
   "uri": "us-docker.pkg.dev/deeplearning-platform-release/gcr.io/workbench-notebooks:m128"
  },
  "kernelspec": {
   "display_name": "Python 3 (ipykernel)",
   "language": "python",
   "name": "conda-base-py"
  },
  "language_info": {
   "codemirror_mode": {
    "name": "ipython",
    "version": 3
   },
   "file_extension": ".py",
   "mimetype": "text/x-python",
   "name": "python",
   "nbconvert_exporter": "python",
   "pygments_lexer": "ipython3",
   "version": "3.10.16"
  }
 },
 "nbformat": 4,
 "nbformat_minor": 5
}
